{
  "nbformat": 4,
  "nbformat_minor": 0,
  "metadata": {
    "colab": {
      "name": "email.ipynb",
      "provenance": [],
      "authorship_tag": "ABX9TyNcjTxR77C0xksNdFpd+Tg0",
      "include_colab_link": true
    },
    "kernelspec": {
      "name": "python3",
      "display_name": "Python 3"
    }
  },
  "cells": [
    {
      "cell_type": "markdown",
      "metadata": {
        "id": "view-in-github",
        "colab_type": "text"
      },
      "source": [
        "<a href=\"https://colab.research.google.com/github/HIRO76/charts/blob/gh-pages/email.ipynb\" target=\"_parent\"><img src=\"https://colab.research.google.com/assets/colab-badge.svg\" alt=\"Open In Colab\"/></a>"
      ]
    },
    {
      "cell_type": "markdown",
      "metadata": {
        "id": "voZG3t6Z2W3_",
        "colab_type": "text"
      },
      "source": [
        "# Email送信（gmail)"
      ]
    },
    {
      "cell_type": "code",
      "metadata": {
        "id": "KI8ohlod2QQo",
        "colab_type": "code",
        "colab": {}
      },
      "source": [
        "import smtplib  # SMTPのインターネット上のホストにメールを送るために使用\n",
        "from getpass import getpass  # エコーなしでユーザーにパスワードを入力させるプロンプト\n",
        "import time  # 時刻に関するさまざまな関数を提供\n",
        "\n",
        "SMTP_SERVER = \"smtp.gmail.com\"\n",
        "SMTP_PORT = 587\n",
        "\n",
        "# アカウント名、パスワード格納\n",
        "LOGIN_USERNAME = None\n",
        "LOGIN_PASSWORD = None\n",
        "\n",
        "def send_mail(recipient, address, password, subject, text):\n",
        "    # SMTPサーバーへ接続\n",
        "    smtpserver = smtplib.SMTP(SMTP_SERVER, SMTP_PORT)  \n",
        "    # 拡張機能の確認\n",
        "    smtpserver.ehlo()  \n",
        "    # tlsでメール通信経路暗号化\n",
        "    smtpserver.starttls()  \n",
        "    # 拡張機能の確認\n",
        "    smtpserver.ehlo()  \n",
        "    # SMTPサーバーにログイン\n",
        "    smtpserver.login(address, password)  \n",
        "    # メールのヘッダー作成\n",
        "    header = \"To: \" + recipient + \"\\n\" + \"From: \" + address\n",
        "    header = header + \"\\n\" + \"Subject: \" + subject + \"\\n\"\n",
        "    # ヘッダーと本文を結合\n",
        "    message = header + \"\\n\" + text\n",
        "    # メール送信\n",
        "    smtpserver.sendmail(address, recipient, message)\n",
        "    # SMTPサーバー切断\n",
        "    smtpserver.close() \n",
        "\n",
        "if __name__ == \"__main__\":\n",
        "    # 差出人入力\n",
        "    email_address_to = input(\"Email address to : \")\n",
        "    # 宛先入力\n",
        "    if not LOGIN_USERNAME:\n",
        "        email_address_from = input(\"Email address from : \")\n",
        "    else:\n",
        "        LOGIN_USERNAME\n",
        "    # パスワード入力\n",
        "    if not LOGIN_PASSWORD:\n",
        "        email_password = getpass(\"Email password : \")\n",
        "    else:\n",
        "        LOGIN_PASSWORD\n",
        "    # 件名\n",
        "    subject = \"test mail\"\n",
        "    # 本文\n",
        "    text = \"Hello : \" + time.strftime(\"%I:%M:%S\")\n",
        "    # メール送信関数呼び出し\n",
        "    send_mail(emal_address_to, email_address_from, email_password, subject, text)\n"
      ],
      "execution_count": 0,
      "outputs": []
    },
    {
      "cell_type": "markdown",
      "metadata": {
        "id": "gqNNOibCDBkw",
        "colab_type": "text"
      },
      "source": [
        "# ファイルを添付してメール送信"
      ]
    },
    {
      "cell_type": "code",
      "metadata": {
        "id": "Q2eaAl1OC__A",
        "colab_type": "code",
        "colab": {}
      },
      "source": [
        "# マルチパート、添付ファイルを取り扱うためのモジュール\n",
        "from email.mime.text import MIMEText\n",
        "from email.mime.application import MIMEApplication\n",
        "from email.mime.multipart import MIMEMultipart\n",
        "import smtplib\n",
        "from os.path import basename\n",
        "\n",
        "def send_file(to_email, from_email, password, path, subject, message):\n",
        "    # MIME作成\n",
        "    msg = MIMEMultipart()\n",
        "    msg[\"Subject\"] = subject\n",
        "    msg[\"To\"] = to_email\n",
        "    msg[\"From\"] = from_email\n",
        "    msg.attach(MIMEText(message))\n",
        "\n",
        "    # ファイル添付\n",
        "    with open(path, \"rb\") as f:\n",
        "        part = MIMEApplication(f.read(), Name=basename(path))\n",
        "\n",
        "    # ファイル名設定\n",
        "    part[\"Content-Disposition\"] = \"attachment: filename=\" basename(path)\n",
        "    msg.attach(part)\n",
        "\n",
        "    # 送信処理\n",
        "    server = smtplib.SMTP(\"smtp.gmail.com\", 587)\n",
        "    server.starttls()\n",
        "    server.login(from_email, password)\n",
        "    server.send_message(msg)\n",
        "    server.quit()\n",
        "\n",
        "# 情報入力、実行\n",
        "if __name__ == \"__main__\":\n",
        "    to_email = \"000@gmail.com\"\n",
        "    from_email = \"XXX@gmail.com\"\n",
        "    password = \"password\"\n",
        "    path = \"sample.csv\"\n",
        "    subject = \"file data\"\n",
        "    message = \"sample file attached\"\n",
        "    send_file(to_email, from_email, password, path, subject, message)\n"
      ],
      "execution_count": 0,
      "outputs": []
    },
    {
      "cell_type": "markdown",
      "metadata": {
        "id": "w0Al87IrKCou",
        "colab_type": "text"
      },
      "source": [
        "# 受信メールチェック"
      ]
    },
    {
      "cell_type": "code",
      "metadata": {
        "id": "_p0ERPqtKJBL",
        "colab_type": "code",
        "colab": {}
      },
      "source": [
        "# IMAP4 サーバへの接続\n",
        "import imaplib\n",
        "\n",
        "SERVER_NAME = \"imap.gmail.com\"\n",
        "USERNAME = \"OOO@gmail.com\"\n",
        "PASSWORD = \"password\"\n",
        "\n",
        "mail = imaplib.IMAP4_SSL(SERVER_NAME)\n",
        "mail.login(USERNAME, PASSWORD)\n",
        "mail.select(\"Inbox\")\n",
        "\n",
        "# search()は検索結果結果をタプルで戻す\n",
        "# b_mlistはメールのスペース区切り連番数値が戻り値として入る\n",
        "st, b_mlist = mail.search(None, \"UNSEEN\")\n",
        "\n",
        "if (st == \"OK\"):\n",
        "    # メールの連番数値からsplit()でスペース区切りのリストを生成\n",
        "    mlist = b_mlist[0].decode().split()\n",
        "    # リストの要素数が未読メール数となる\n",
        "    mcount = len(mlist)\n",
        "    if (mcount > 0):\n",
        "        print(f\"You got {str(mcount)} mail\")\n",
        "    else:\n",
        "        print(\"No new mail\")\n",
        "else:\n",
        "    print(\"Can't get mail status\")\n",
        "\n",
        "mail.close()\n",
        "mail.logout()"
      ],
      "execution_count": 0,
      "outputs": []
    },
    {
      "cell_type": "markdown",
      "metadata": {
        "id": "GNQddcSXLicN",
        "colab_type": "text"
      },
      "source": [
        "# メール添付ファイルの保存"
      ]
    },
    {
      "cell_type": "code",
      "metadata": {
        "id": "dgkBO1QALpw7",
        "colab_type": "code",
        "colab": {}
      },
      "source": [
        "import imaplib\n",
        "import email.parser\n",
        "import email.header\n",
        "import os\n",
        "import os.path\n",
        "\n",
        "SERVER_NAME = \"imap.gmail.com\"\n",
        "USER_NAME = \"hoge@gmail.com\"\n",
        "PASSWORD = \"hogehoge\"\n",
        "MBOX = \"INBOX\"\n",
        "JSN_DIR = \"./jsn\"\n",
        "\n",
        "# mimeエンコードされたheaderをデコードしstr文字列を返す\n",
        "# MIMEエンコードヘッダーをデコードして文字列を取得\n",
        "def decode_mime_header(s0):\n",
        "    return \"\".join(str(s, c or \"ascii\") if is instance(s, (bytes,)) else s for s, c in email.header.decode_header(s0))\n",
        "\n",
        "# 引数「obj」メールオブジェクトの添付ファイル有無を判定\n",
        "# objが添付ファイルかどうかを確認\n",
        "def is_attachment(obj):\n",
        "    s = obj[\"Content-Disposition\"]\n",
        "    return s and s.startswith(\"attachment\")\n",
        "\n",
        "# get_jsn_each()はget_jsn()から呼び出され、引数「e」メールオブジェクトの\n",
        "# 添付ファイル(json)を引数「d_jsn」で指定されたディレクトリに保存\n",
        "def get_json_each(d_jsn, e):\n",
        "    if e.is_multipart():\n",
        "        for p in walk():\n",
        "            if not p.multipart() and is_attachment(p) and p.get_content_maintype() == \"application\":\n",
        "                fname0 = p.get_filename()\n",
        "                if fname0:\n",
        "                    fname = decode_mime_header(fname0)\n",
        "                    try: \n",
        "                        with open(os.path.join(d_jsn, fname), \"wb\")as f:\n",
        "                            f.write(p.get_payload(None, True))\n",
        "                    except:\n",
        "                        print(\"cannot save\" + fname)\n",
        "                    print(fname)\n",
        "                else:\n",
        "                    print(\"cannot get filename\")\n",
        "\n",
        "# すべてのメールの添付ファイルをmboxに保存\n",
        "# 'UNSEEN'を指定すると未読メールオブジェクトの添付ファイルを保存\n",
        "def get_jsn(con, mbox, d_jsn):\n",
        "    con.select(mbox)\n",
        "    p = email.parser.BytesParser()\n",
        "    _type, _data = con.search(None, \"ALL\")\n",
        "    # _type, _data = con.search(None, \"UNSEEN\")\n",
        "\n",
        "    for num in _data[0].split():\n",
        "        type, data = con.fetch(num, \"(RCF822)\")\n",
        "        get_json_each(d_jsn, p.parsebytes(data[0][1]))\n",
        "\n",
        "if __name__ == \"__main__\":\n",
        "    if not os.path.isdir(JSN_DIR):\n",
        "        os.mkdir(JSN_DIR)\n",
        "    con = imaplib.IMAP4_SSL(SERVER_NAME)\n",
        "    con.login(USER_NAME, PASSWORD)\n",
        "    get_jsn(con, MBOX, JSN_DIR)\n",
        "    con.close()\n",
        "    con.logout()\n"
      ],
      "execution_count": 0,
      "outputs": []
    }
  ]
}